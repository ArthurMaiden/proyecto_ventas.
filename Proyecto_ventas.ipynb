{
  "nbformat": 4,
  "nbformat_minor": 0,
  "metadata": {
    "colab": {
      "provenance": [],
      "authorship_tag": "ABX9TyMceYelJjD7Nt/IRK+2LTnc",
      "include_colab_link": true
    },
    "kernelspec": {
      "name": "python3",
      "display_name": "Python 3"
    },
    "language_info": {
      "name": "python"
    }
  },
  "cells": [
    {
      "cell_type": "markdown",
      "metadata": {
        "id": "view-in-github",
        "colab_type": "text"
      },
      "source": [
        "<a href=\"https://colab.research.google.com/github/ArthurMaiden/proyecto_ventas./blob/main/Proyecto_ventas.ipynb\" target=\"_parent\"><img src=\"https://colab.research.google.com/assets/colab-badge.svg\" alt=\"Open In Colab\"/></a>"
      ]
    },
    {
      "cell_type": "code",
      "execution_count": 1,
      "metadata": {
        "colab": {
          "base_uri": "https://localhost:8080/"
        },
        "id": "SXer78ohkawI",
        "outputId": "b19b7443-64ae-4294-8793-f942cd194055"
      },
      "outputs": [
        {
          "output_type": "stream",
          "name": "stdout",
          "text": [
            "Mounted at /content/drive\n"
          ]
        }
      ],
      "source": [
        "from google.colab import drive\n",
        "drive.mount('/content/drive')"
      ]
    },
    {
      "cell_type": "code",
      "source": [
        "!ls \"/content/drive/My Drive\""
      ],
      "metadata": {
        "colab": {
          "base_uri": "https://localhost:8080/"
        },
        "id": "cXw567uHk2UB",
        "outputId": "338b50e8-45ce-40c0-f63b-ef9fff8ea288"
      },
      "execution_count": 2,
      "outputs": [
        {
          "output_type": "stream",
          "name": "stdout",
          "text": [
            " 0124-7441-just-31-00226.pdf\n",
            "'01B DIAGRAMA PROCESO (1).drawio'\n",
            "'01B DIAGRAMA PROCESO.drawio'\n",
            " 1886-5887-bioetica-40-00125.pdf\n",
            "'2013-oecd-privacy-guidelines (1).pdf'\n",
            " 2013-oecd-privacy-guidelines.pdf\n",
            "'2018 Oncología de MTCh.pdf'\n",
            "'20190121 (1).pdf'\n",
            "'20190121(2) (1).pdf'\n",
            "'20190121(2).pdf'\n",
            " 20190121.pdf\n",
            "'2.3 - GRUPO KINESIO.gdoc'\n",
            " actividadesinicialesdelmagsterbiotica\n",
            "'Adela-Cortina-El-Mundo-de-Los-Valores (1).pdf'\n",
            "'Adela-Cortina-Etica-Minima (1).pdf'\n",
            "'Agentes fisicos en rehabilitacion.pdf'\n",
            "'Andrés Méndez.pdf'\n",
            "'Anexos de propuesta de reglamento (1).pdf'\n",
            "'Anexos de propuesta de reglamento.pdf'\n",
            "'Animales racionales y dependientes - Por qué los humanos necesitamos de las virtudes by MacIntyre, Alasdair.pdf'\n",
            "'Aprendizaje-servicio (ApS); claves para su desarrollo en la universidad.gdoc'\n",
            "'Aristóteles - Moral.pdf'\n",
            "'Arturo Bravo Arellano 2.0.docx'\n",
            "'Arturo Bravo Arellano-2.docx'\n",
            "'Arturo Bravo Arellano.docx'\n",
            "'Blassi_Analisis justicia como virtud Santo Tomas.gdoc'\n",
            "'Blassi_Analisis justicia como virtud Santo Tomas.pdf'\n",
            "'Bravo, Arturo (2).docx'\n",
            "'Bravo, Arturo (3).docx'\n",
            "'Breve historia de la ética by Victoria Camps (z-lib.org).pdf'\n",
            "'Buber, Martin_Díaz, Carlos - Yo y tú-Bookwire GmbH_Herder (2017).epub'\n",
            "'Bunge Mario . Filosofia Para Medicos - Gedisa.pdf'\n",
            "'Byung-Chul Han - Buen entretenimiento.pdf'\n",
            " Calendario_Turnos_Kinesiólogos_2024_Calendario.xlsx\n",
            "'Camps, Victoria - Etica, retórica, política  Alianza Ed. 1995.pdf'\n",
            "'Camps, Victoria, Guariglia, Osvaldo y Salmerón, Fernando (eds.)- Concepciones de la ética.pdf'\n",
            "'Camps, Victoria - La imaginación ética.pdf'\n",
            " Camps-Victoria-La-Imaginacion-Etica.pdf.pdf\n",
            "'CamScanner 09-09-2020 14.13.22-1.pdf'\n",
            "'CamScanner 09-09-2020 14.13.22.pdf'\n",
            " Casa\n",
            "'CEA HRT'\n",
            " CEAM\n",
            " Certificados\n",
            " Certificados.pdf\n",
            "'CI (1).pdf'\n",
            " CI.pdf\n",
            " Classroom\n",
            "'Colab Notebooks'\n",
            "'Comprobante de pago ABA.pdf'\n",
            "'Concierto '\n",
            "'Copia de Recetario pastas veganas de colores Taller online.pdf'\n",
            "'Copleston - Historia de la Filosofía'\n",
            "'Corina Muñoz.pdf'\n",
            "'Cuestionario completo 2022 -  MFIA Contemporánea.docx'\n",
            "'Cuestionario completo 2022 -  MFIA Moderna.docx'\n",
            "'C.V Arturo Bravo Arellano (1).pdf'\n",
            "'C.V Arturo Bravo Arellano.pdf'\n",
            "'DBB 2024.pdf'\n",
            "'DDUAPIE 2024.pdf'\n",
            "'Declaración jurada.pdf'\n",
            " DECS.pdf\n",
            " DEpi\n",
            " DERA.pdf\n",
            "'Desafíos éticos en la atención a personas con dependencia severa - ABA.pptx'\n",
            " DIA.pdf\n",
            "'DIC 2024.pdf'\n",
            "'Diccionario-filosofico-Ferrater Mora.pdf'\n",
            "'DIDU 2024.pdf'\n",
            "'Diplomado Gerontología Social'\n",
            "'Diplomado IA'\n",
            " DMIPA.pdf\n",
            " Docentia.xlsx\n",
            "'DPI (1).xls'\n",
            " DPI.xls\n",
            "'D. REVISIONES SISTEMÁTICAS Y METAANÁLISIS DE INTERVENCIONES EN CIENCIAS DE LA SALUD 2024 (1).xlsx'\n",
            "'D. REVISIONES SISTEMÁTICAS Y METAANÁLISIS DE INTERVENCIONES EN CIENCIAS DE LA SALUD 2024 (2).xlsx'\n",
            "'D. REVISIONES SISTEMÁTICAS Y METAANÁLISIS DE INTERVENCIONES EN CIENCIAS DE LA SALUD 2024.xlsx'\n",
            " dte-39-F551320380.pdf\n",
            " dte-ticket-F551320380.pdf\n",
            "'El Estado de la Protección DP Chile_DD (1).pdf'\n",
            "'El Estado de la Protección DP Chile_DD.pdf'\n",
            "'Epicuro - Obras (Altaya) (1).pdf'\n",
            "'Epicuro - Sobre el placer y la felicidad - Editorial Universitaria 1997.pdf'\n",
            "'Etica. Adela Cortina y Emilio Martínez.pdf'\n",
            "'Etica a Nicomaco - Aristoteles.pdf'\n",
            "'Ética del cuidado en ciencias de la salud. A partir de la lectura de La muerte de Iván Ilich de Lev Tolstói.pdf'\n",
            "'Etica General (1).pdf'\n",
            "'Ética para Amador. Ética de urgencia.pdf'\n",
            "'Ética. Una visión global de la conducta humana.pdf'\n",
            "'Ética y ciudadanía 1. Construyendo la ética.pdf'\n",
            "'Ética y ciudadanía 2. Deliberando sobre valores.pdf'\n",
            "'Eutanasia. Un análisis a la luz de la ciencia y la antropología.pdf'\n",
            " facu.pdf\n",
            "'Familia feliz'\n",
            "'Foucault, Michel - Hermeneútica del sujeto.PDF'\n",
            "'Francia Ferrada'\n",
            "'Fundamentación y enseñanza de la bioética. by Gracia, Diego (z-lib.org) (1).pdf'\n",
            "'Fundamentación y enseñanza de la bioética. by Gracia, Diego (z-lib.org).pdf'\n",
            "'Fundamentos de Bioética Aplicada en Ciencias de la Salud - V2 2024'\n",
            "'Garcia Larrain_El contenido de la justicia en Santo Tomas.gdoc'\n",
            "'Garcia Larrain_El contenido de la justicia en Santo Tomas.pdf'\n",
            "'Guardada desde Chrome'\n",
            " Hannah-Arendt-Que-Es-La-Politica.pdf\n",
            "'Hector Solís.pdf'\n",
            "'Historia de la ética by Alasdair MacIntyre.pdf'\n",
            "'Historia de la Filosofia - Julián Marías.pdf'\n",
            " image.jpg\n",
            " IMG_4678.jpeg\n",
            " IMG_4730.jpeg\n",
            " IMG_4739.jpeg\n",
            " IMG_4757.jpeg\n",
            " IMG_4763.jpeg\n",
            " IMG_4787.jpeg\n",
            " IMG_4897.jpeg\n",
            " IMG_4917.jpeg\n",
            " IMG_4921.jpeg\n",
            " IMG_5044.jpeg\n",
            " IMG_5050.jpeg\n",
            "'[Ivan_Illich]_Medical_Nemesis__The_Expropriation_o(z-lib.org).pdf'\n",
            "'[Jonas_Salzgeber]_The_Little_Book_of_Stoicism__Tim(z-lib.org).pdf'\n",
            "'Joseph Cropsey, Karl Marx.pdf'\n",
            "'Justicia y Racionalidad by Alasdair MacIntyre.pdf'\n",
            "'La ética de los cuidados profesionales.pdf'\n",
            "'La ética. Para qué sirve realmente....pdf'\n",
            "'La eutanasia y el final de la vida. Una reflexión crítica.pdf'\n",
            "'La revolución ética.pdf'\n",
            "'Lectura complementaria.pdf'\n",
            "'Levinas, Emmanuel - Etica como filosofia primera.pdf'\n",
            "'Locke, Carta versión Alianza.pdf'\n",
            "'Los caminos para la libertad. Ética y educación.pdf'\n",
            " Los-estoicos.pdf\n",
            "'Manuel Ayala.pdf'\n",
            "'Maquiavelo, El Príncipe.pdf'\n",
            " Marcelo\n",
            "'María José'\n",
            "'Mg. Bioética.pdf'\n",
            "'Mg. Filosofía Aplicada.pdf'\n",
            "'Michel FOUCAULT'\n",
            "'Mill, Sobre la libertad, cap. 1.pdf'\n",
            "'Mill, Sobre la libertad, cap. 3.pdf'\n",
            "'Opiniones académicas sobre innovaciones microcurriculares en Ciencias de la Salud (1).docx'\n",
            "'Opiniones académicas sobre innovaciones microcurriculares en Ciencias de la Salud.docx'\n",
            "'[Ortega_y_Gasset_Jose]_Historia_como_sistema(z-lib.org).rtf.pdf'\n",
            "'Ortega y Gasset - OBRAS COMPLETAS - Tomo 1 - Revista de Occidente.pdf'\n",
            "'Ortega y Gasset - OBRAS COMPLETAS - Tomo 4 - Revista de Occidente.pdf'\n",
            "'Ortega y Gasset OBRAS COMPLETAS - Tomo 5 - Revista de Occidente.pdf'\n",
            "'Ortega y Gasset OBRAS COMPLETAS - Tomo 6 - Revista de Occidente.pdf'\n",
            "'Ortega y Gasset OBRAS COMPLETAS - Tomo 7 - Revista de Occidente.pdf'\n",
            "'Ortega y Gasset OBRAS COMPLETAS - Tomo 8 - Revista de Occidente.pdf'\n",
            "'Ortega y Gasset OBRAS COMPLETAS - Tomo 9 - Revista de Occidente.pdf'\n",
            "'Percepción académica sobre capacitaciones en herramientas docentes.docx'\n",
            "'Peter A. Singer, A. M. Viens - The Cambridge Textbook of Bioethics (2008).pdf'\n",
            "'Peter Singer - Practical Ethics-Cambridge University Press (2011).pdf'\n",
            "'Proyectos Investigación CD San Clemente'\n",
            " Rawls-John-Teoria-de-La-Justicia.pdf\n",
            "'Reflexiones éticas. Pasajes elegidos.pdf'\n",
            "'Rehabilitación Vestibular'\n",
            "'Repostería y Cocina'\n",
            "'RORTY, Richard, El Pragmatismo una Versión -Antiautoritarismo en Epistemologia y Etica (1).PDF'\n",
            "'RORTY, Richard, El Pragmatismo una Versión -Antiautoritarismo en Epistemologia y Etica.PDF'\n",
            "'Rousseau - Contrato Social (selección).pdf'\n",
            "'Rousseau - Sobre la Desigualdad (selección).pdf'\n",
            " RPK.xls\n",
            "'Sanchez_La justicia en Santo Tomas.gdoc'\n",
            "'Sanchez_La justicia en Santo Tomas.pdf'\n",
            "'Selección de Hobbes, Leviatán (ed. Colihue).pdf'\n",
            "'Selección Tocqueville, La democracia en América.pdf'\n",
            "'Seneca - De la brevedad de la vida.pdf'\n",
            "'Seneca - Dialogos (1).pdf'\n",
            "'Singer, Peter. Compendio de ética. Alianza Editorial, Madrid- 1995..pdf'\n",
            "'Singer, Peter - E_tica para vivir mejor.pdf'\n",
            " Smith-Adam-La-Riqueza-de-las-Naciones.pdf\n",
            " spanish_bioethics_committee_report_on_the_ethical_and_legal_aspects_of_surrogacy.pdf\n",
            "'Spinoza, Tratado político, el método.pdf'\n",
            "'TAYLOR, Charles, Fuentes del Yo.pdf'\n",
            "'TAYLOR, Charles, La Etica de la Autenticidad.pdf'\n",
            "'Temas de ética y epistemología de la ciencia.pdf'\n",
            "'Teoria_de_los_sentimientos_morales_(Adam_Smith).pdf'\n",
            "'The Core of Care Ethics by Stephanie Collins (auth.).pdf'\n",
            "'The Ethics of Care and Empathy by Michael Slote.pdf'\n",
            "'The Ethics of Care Personal, Political, and Global by Virginia Held.pdf'\n",
            " Título.pdf\n",
            " Trabajo\n",
            "'Trabajo diplomado.docx'\n",
            "'VACUNA ARTURO BRAVO 2021.pdf'\n",
            " ventas_productos.csv\n",
            "'Videos Metodologías Activas'\n",
            "'Vivir éticamente. Cómo el altruismo nos hace mejor personas.pdf'\n"
          ]
        }
      ]
    },
    {
      "cell_type": "code",
      "source": [
        "ruta_csv = \"/content/drive/My Drive/ventas_productos.csv\"\n"
      ],
      "metadata": {
        "id": "T1yo-IH-lE8q"
      },
      "execution_count": 3,
      "outputs": []
    },
    {
      "cell_type": "code",
      "source": [
        "import pandas as pd\n",
        "import matplotlib.pyplot as plt\n",
        "\n",
        "# Ruta del archivo en Google Drive\n",
        "ruta_csv = \"/content/drive/My Drive/ventas_productos.csv\"\n",
        "\n",
        "# Cargar los datos desde Google Drive\n",
        "df = pd.read_csv(ruta_csv)\n",
        "\n",
        "# Calcular el precio total por producto\n",
        "df['Precio_Total'] = df['Cantidad'] * df['Precio']\n",
        "\n",
        "# Mostrar los primeros registros\n",
        "print(df.head())\n",
        "\n",
        "# Crear un gráfico de barras para visualizar el precio total por producto\n",
        "plt.bar(df['Producto'], df['Precio_Total'], color='skyblue')\n",
        "\n",
        "# Etiquetas y título del gráfico\n",
        "plt.xlabel('Producto')\n",
        "plt.ylabel('Precio Total')\n",
        "plt.title('Precio Total por Producto')\n",
        "\n",
        "# Mostrar el gráfico\n",
        "plt.show()\n"
      ],
      "metadata": {
        "colab": {
          "base_uri": "https://localhost:8080/",
          "height": 579
        },
        "id": "tA4F0BCIlLj2",
        "outputId": "be890e4c-87e3-42ba-a820-746621019abe"
      },
      "execution_count": 4,
      "outputs": [
        {
          "output_type": "stream",
          "name": "stdout",
          "text": [
            "    Producto  Cantidad  Precio  Precio_Total\n",
            "0  Producto1        15     7.0         105.0\n",
            "1  Producto2        30     8.5         255.0\n",
            "2  Producto3        25     6.5         162.5\n",
            "3  Producto4        40    10.0         400.0\n",
            "4  Producto5        20     5.5         110.0\n"
          ]
        },
        {
          "output_type": "display_data",
          "data": {
            "text/plain": [
              "<Figure size 640x480 with 1 Axes>"
            ],
            "image/png": "[encoded data removed]"
          },
          "metadata": {}
        }
      ]
    }
  ]
}